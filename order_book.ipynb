{
 "cells": [
  {
   "cell_type": "code",
   "execution_count": 5,
   "source": [
    "from exchanges.binance import get_client\r\n",
    "\r\n",
    "binance = get_client()"
   ],
   "outputs": [],
   "metadata": {}
  },
  {
   "cell_type": "code",
   "execution_count": 6,
   "source": [
    "binance.get_balances()"
   ],
   "outputs": [
    {
     "output_type": "execute_result",
     "data": {
      "text/plain": [
       "{'BTC': '0.00001151',\n",
       " 'BNB': '0.01287171',\n",
       " 'USDT': '104.16527275',\n",
       " 'WTC': '1.00000000',\n",
       " 'IOST': '0.90000000',\n",
       " 'BUSD': '2.54316500',\n",
       " 'LDETH': '0.00009624',\n",
       " 'BIDR': '1483.50',\n",
       " 'DAI': '0.10656000',\n",
       " 'BTCST': '0.01000000',\n",
       " 'TRU': '1.00000000'}"
      ]
     },
     "metadata": {},
     "execution_count": 6
    }
   ],
   "metadata": {}
  },
  {
   "cell_type": "code",
   "execution_count": 7,
   "source": [
    "a = binance.get_order_book('ETHUSDT')"
   ],
   "outputs": [],
   "metadata": {}
  },
  {
   "cell_type": "code",
   "execution_count": 1,
   "source": [
    "from redis_client import get_client\r\n",
    "\r\n",
    "redis = get_client()"
   ],
   "outputs": [],
   "metadata": {}
  },
  {
   "cell_type": "code",
   "execution_count": 26,
   "source": [
    "redis.delete('last_update_ids')"
   ],
   "outputs": [
    {
     "output_type": "execute_result",
     "data": {
      "text/plain": [
       "1"
      ]
     },
     "metadata": {},
     "execution_count": 26
    }
   ],
   "metadata": {}
  },
  {
   "cell_type": "code",
   "execution_count": 8,
   "source": [
    "redis.hset('last_update_ids', 'ETHUSDT', a['lastUpdateId'])"
   ],
   "outputs": [
    {
     "output_type": "execute_result",
     "data": {
      "text/plain": [
       "0"
      ]
     },
     "metadata": {},
     "execution_count": 8
    }
   ],
   "metadata": {}
  },
  {
   "cell_type": "code",
   "execution_count": 3,
   "source": [
    "redis.get('last_update_id')"
   ],
   "outputs": [
    {
     "output_type": "execute_result",
     "data": {
      "text/plain": [
       "'11635525586'"
      ]
     },
     "metadata": {},
     "execution_count": 3
    }
   ],
   "metadata": {}
  },
  {
   "cell_type": "code",
   "execution_count": 10,
   "source": [
    "a = redis.hget('last_update_ids', 'ETHUSDT')\r\n",
    "print(a)"
   ],
   "outputs": [
    {
     "output_type": "stream",
     "name": "stdout",
     "text": [
      "11636188737\n"
     ]
    }
   ],
   "metadata": {}
  },
  {
   "cell_type": "code",
   "execution_count": 8,
   "source": [
    "import simplejson as json\r\n",
    "import websocket\r\n",
    "\r\n",
    "def on_open(wsapp):\r\n",
    "    payload = {\r\n",
    "            \"method\": \"SUBSCRIBE\",\r\n",
    "            'params': ['ETHUSDT@depth@100ms'],\r\n",
    "            \"id\": 1\r\n",
    "        }\r\n",
    "    wsapp.send(json.dumps(payload))\r\n",
    "\r\n",
    "def on_message(wsapp, message):\r\n",
    "    print(message)\r\n",
    "\r\n",
    "wsapp = websocket.WebSocketApp(\"wss://stream.binance.com:9443/ws\", on_message=on_message)\r\n",
    "wsapp.run_forever()"
   ],
   "outputs": [
    {
     "output_type": "execute_result",
     "data": {
      "text/plain": [
       "False"
      ]
     },
     "metadata": {},
     "execution_count": 8
    }
   ],
   "metadata": {}
  },
  {
   "cell_type": "code",
   "execution_count": null,
   "source": [],
   "outputs": [],
   "metadata": {}
  }
 ],
 "metadata": {
  "orig_nbformat": 4,
  "language_info": {
   "name": "python",
   "version": "3.8.11",
   "mimetype": "text/x-python",
   "codemirror_mode": {
    "name": "ipython",
    "version": 3
   },
   "pygments_lexer": "ipython3",
   "nbconvert_exporter": "python",
   "file_extension": ".py"
  },
  "kernelspec": {
   "name": "python3",
   "display_name": "Python 3.8.11 64-bit ('dark_knight': conda)"
  },
  "interpreter": {
   "hash": "f606439d1449c13f34f8755c7c1a65ccc709beff9022e32a342229995ddbacb1"
  }
 },
 "nbformat": 4,
 "nbformat_minor": 2
}